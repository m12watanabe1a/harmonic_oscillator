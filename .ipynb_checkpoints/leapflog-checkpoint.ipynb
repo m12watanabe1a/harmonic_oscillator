{
 "cells": [
  {
   "cell_type": "markdown",
   "metadata": {},
   "source": [
    "# Leap-frog Algorithm\n",
    "\n",
    "We want to solve the following equation.\n",
    "\n",
    "\\begin{align*}\n",
    "    \\frac{d^2}{dt^2} x \\left( t\\right) &= a \\left( x \\right) \\\\\n",
    "    &=  -\\frac{d}{dx} \\Phi \\left( x \\right)\n",
    "\\end{align*}\n",
    "\n",
    "Here, $a$ is the acceleration and $\\Phi \\left( x\\right)$ is a potential of a point mass. "
   ]
  },
  {
   "cell_type": "markdown",
   "metadata": {},
   "source": [
    "This equation represents hamiltonian system with the energy\n",
    "\n",
    "$$\n",
    "    E = \\frac{1}{2} v^2 + \\Phi \\left( x\\right)\n",
    "$$\n",
    "\n",
    "which is conserved because of\n",
    "\n",
    "\\begin{align*}\n",
    "    \\frac{dE}{dt} &= v \\frac{dv}{dt} + \\frac{d \\Phi}{dx} \\frac{dx}{dt} \\\\\n",
    "    &= v \\left( \\frac{d^2}{dt^2}x + \\frac{d \\Phi}{dx} \\right) \\\\\n",
    "    &= 0\n",
    "\\end{align*}\n",
    "\n",
    "Here, $v$ stands for the velocity and $v = \\frac{dx}{dt}$."
   ]
  },
  {
   "cell_type": "markdown",
   "metadata": {},
   "source": [
    "We use a leap-frog algorithm. \n",
    "From the energy conservation equation, we get\n",
    "$$\n",
    "    \\frac{d^2}{dt^2}x + \\frac{d \\Phi}{dx} = 0\n",
    "$$\n",
    "Therefore, \n",
    "\\begin{align*}\n",
    "    \\color{red}{v_{n+\\frac{1}{2}}} &= v_{n} + a_n \\frac{dt}{2} \\\\\n",
    "    x_{n+\\frac{1}{2}} &= x_{n} + \\color{red}{v_{n+\\frac{1}{2}}} \\frac{dt}{2}\n",
    "\\end{align*}\n",
    "and then the other way round\n",
    "\n",
    "\\begin{align*}\n",
    "    \\color{red}{x_{n+1}} &= x_{n+\\frac{1}{2}} + v_{n+\\frac{1}{2}} \\frac{dt}{2} \\\\\n",
    "    v_{n+1} &= v_{n+\\frac{1}{2}} + \\color{red}{a_{n+1}} \\frac{dt}{2}\n",
    "\\end{align*}"
   ]
  },
  {
   "cell_type": "markdown",
   "metadata": {},
   "source": [
    "From the first half-step\n",
    "$$\n",
    "    x_{n+\\frac{1}{2}} = x_n + v_n \\frac{dt}{2} + a_n \\frac{dt^2}{4}\n",
    "$$\n",
    "\n",
    "and therefore, from the second half-step\n",
    "\\begin{align*}\n",
    "x_{n+1} &= x_n + v_n \\frac{dt}{2} + a_n \\frac{dt^2}{4} + v_{n+\\frac{1}{2}} \\frac{dt}{2} \\\\\n",
    "&=  x_n + v_n \\frac{dt}{2} + a_n \\frac{dt^2}{4} + v_{n} \\frac{dt}{2}  + a_{n} \\frac{dt^2}{4} \\\\\n",
    "&=  x_n + v_n dt + \\frac{1}{2} a_n dt^2\n",
    "\\end{align*}\n",
    "\n",
    "and\n",
    "\n",
    "\\begin{align*}\n",
    "    v_{n+1} &= v_{n + \\frac{1}{2}} + a_{n+1} \\frac{dt}{2} \\\\\n",
    "    &= v_n + \\frac{a_n + a_{n+1}}{2} dt \n",
    "\\end{align*}"
   ]
  },
  {
   "cell_type": "markdown",
   "metadata": {},
   "source": [
    "Hence, we get the Verlet algorithm\n",
    "\\begin{align*}\n",
    "    x_{n+1} &= x_n + v_n dt + \\frac{1}{2} a_n dt^2 \\\\\n",
    "    v_{n+1} &= v_n + \\frac{a_n + a_{n+1}}{2} dt \n",
    "\\end{align*}"
   ]
  },
  {
   "cell_type": "markdown",
   "metadata": {},
   "source": [
    "### Exercise 1\n",
    "#### Harmonic Oscillator\n",
    "Show that for the harmonic oscillator $a_n = -x_n$, the modified energy\n",
    "$$\n",
    "    \\hat{E}_n = \\frac{1}{2}v_n^2 + \\frac{1}{2}x_n^2 \\left( 1 - \\frac{dt^2}{4}\\right)\n",
    "$$\n",
    "is conserved, that is,\n",
    "$$\n",
    "    \\hat{E}_n = \\hat{E}_{n+1}\n",
    "$$"
   ]
  },
  {
   "cell_type": "markdown",
   "metadata": {},
   "source": [
    "#### Solution\n",
    "$$\n",
    "    \\hat{E}_{n+1} = \\frac{1}{2}v_{n+1}^2 + \\frac{1}{2}x_{n+1}^2 \\left( 1 - \\frac{dt^2}{4}\\right)\n",
    "$$\n",
    "and by using the following to the above,\n",
    "\\begin{align*}\n",
    "    x_{n+1} &= x_n + v_n dt + \\frac{1}{2} a_n dt^2 \\\\\n",
    "    &= v_n dt + x_n \\left( 1 - \\frac{dt^2}{2} \\right) \\\\\n",
    "    \\\\\n",
    "    v_{n+1} &= v_n  + \\frac{a_n + a_{n+1}}{2} dt  \\\\\n",
    "    &= v_n \\left(  1- \\frac{dt^2}{2}\\right) - x_n \\left( 1 - \\frac{dt^2}{4}\\right)dt\n",
    "\\end{align*}"
   ]
  },
  {
   "cell_type": "markdown",
   "metadata": {},
   "source": [
    "We get\n",
    "\\begin{align*}\n",
    "    \\hat{E}_{n+1} &= \\frac{1}{2}v_{n+1}^2 + \\frac{1}{2}x_{n+1}^2 \\left( 1 - \\frac{dt^2}{4}\\right) \\\\\n",
    "    &= \\frac{1}{2}v_n^2 \\left(  1- \\frac{dt^2}{2}\\right) ^2 +  \\frac{1}{2} x_n^2 \\left( 1 - \\frac{dt^2}{4}\\right)^2dt^2 - x_n v_n \\left(  1- \\frac{dt^2}{2}\\right) \\left( 1 - \\frac{dt^2}{4}\\right) dt \\\\\n",
    "    & + \\frac{1}{2} v_n^2 \\left( 1 - \\frac{dt^2}{4}\\right) ^2 dt^2 + \\frac{1}{2} x_n^2 \\left( 1 - \\frac{dt^2}{2} \\right)^2\\left( 1 - \\frac{dt^2}{4}\\right) + x_n v_n \\left( 1 - \\frac{dt^2}{2} \\right) \\left( 1 - \\frac{dt^2}{4}\\right) dt \\\\\n",
    "    \\\\\n",
    "    &= \\frac{1}{2}v_n^2 + \\frac{1}{2}x_n^2 \\left( 1 - \\frac{dt^2}{4}\\right)\n",
    "\\end{align*}"
   ]
  },
  {
   "cell_type": "markdown",
   "metadata": {},
   "source": [
    "### Exercise 2\n",
    "#### Time Reversal\n",
    "Show that the algorithm is time-reversal invariant, that is, that by interchanging $dt \\rightarrow -dt$ and $n \\leftrightarrow n+1$ we get the same algorithm, backwatds in time:\n",
    "\n",
    "\\begin{align*}\n",
    "   x_n &= x_{n+1} - v_{n+1} dt + \\frac{1}{2} a_{n+1} dt^2 \\\\\n",
    "    v_n &= v_{n+1} - \\frac{a_{n+1} + a_n}{2} dt\n",
    "\\end{align*}\n",
    "\n",
    "and that it therefore has the accuracy in 4th order $\\mathcal{O}\\left(dt^4\\right)$ to $x$."
   ]
  },
  {
   "cell_type": "markdown",
   "metadata": {},
   "source": [
    "#### Solution\n",
    "For the velocity, it is obviously\n",
    "$$\n",
    "    v_{n+1} =  v_n + \\frac{a_n + a_{n+1}}{2} dt \n",
    "$$\n",
    "\n",
    "Therefore,\n",
    "\\begin{align*}\n",
    "    x_{n+1} &= x_n + v_{n+1} dt - \\frac{1}{2} a_{n+1} dt^2 \\\\\n",
    "    &= x_n + v_n dt + \\frac{a_n + a_{n+1}}{2} dt^2 - \\frac{1}{2} a_{n+1} dt^2 \\\\\n",
    "    &= x_n + v_n dt + \\frac{1}{2} a_n dt^2\n",
    "\\end{align*}"
   ]
  },
  {
   "cell_type": "markdown",
   "metadata": {},
   "source": [
    "### Exercise 3\n",
    "#### Verlet without velocity as 4th order algorithm\n",
    "\n",
    "Use the Taylor expansions\n",
    "\\begin{align*}\n",
    "    x\\left( t + dt\\right) &= x\\left(t\\right) + v\\left(t\\right)dt + \\frac{1}{2!} a \\left(t\\right)dt^2 + \\frac{1}{3!} b \\left(t\\right)dt^3 + \\mathcal{O}\\left(dt^4\\right) \\\\ \n",
    "    x\\left( t - dt\\right) &= x\\left(t\\right) - v\\left(t\\right)dt + \\frac{1}{2!} a \\left(t\\right)dt^2 - \\frac{1}{3!} b \\left(t\\right)dt^3 + \\mathcal{O}\\left(dt^4\\right) \\\\ \n",
    "\\end{align*}\n",
    "\n",
    "and show that there is an algorithm with error in 4th order only connecting $x_{n-1}$, $x_{n}$ and $x_{n+1}$.\n",
    "Compare with the algorithm above."
   ]
  },
  {
   "cell_type": "markdown",
   "metadata": {},
   "source": [
    "#### Solution\n",
    "By subtracting those above,\n",
    "\\begin{align*}\n",
    "    x\\left( t + dt\\right) - x\\left( t - dt\\right) &= 2 x\\left(t\\right)  + a \\left(t\\right)dt^2 + \\mathcal{O}\\left(dt^4\\right) \\\\\n",
    "    x_{n+1} &= 2x_n + x_{n-1} + a_n dt^2  + \\mathcal{O}\\left(dt^4\\right) \n",
    "\\end{align*}\n",
    "Since the algorithm from exercise 3 is time-reversal symmetric, the third-order error term in $x\\left(t\\right)$ must be absent.\n"
   ]
  },
  {
   "cell_type": "markdown",
   "metadata": {},
   "source": [
    "### Exercise 4\n",
    "#### The nonliner oscillator\n",
    "Solve\n",
    "$$\n",
    "    \\frac{d^2x}{dt^2} = - x^p\n",
    "$$\n",
    "\n",
    "for odd $p=11$, or\n",
    "$$\n",
    "    \\frac{d^2x}{dt^2} = - \\mbox{sign} \\left(x\\right) |x|^p\n",
    "$$\n",
    "\n",
    "for any $p > 0$ and observe the oscillations, and how good the energy is conserved. "
   ]
  },
  {
   "cell_type": "markdown",
   "metadata": {},
   "source": [
    "Initial conditions: $x_0 = 1$ and $v_0 = 0$."
   ]
  },
  {
   "cell_type": "markdown",
   "metadata": {},
   "source": [
    "#### Codes\n",
    "\n",
    "We compare verlet algorithm and 2nd order Runge-Kutta algorithm below."
   ]
  },
  {
   "cell_type": "code",
   "execution_count": 4,
   "metadata": {},
   "outputs": [],
   "source": [
    "%matplotlib inline\n",
    "import matplotlib.pyplot as plt\n",
    "import matplotlib.ticker as ptick\n",
    "import numpy as np\n",
    "\n",
    "dt  = 0.01\n",
    "T = 25\n",
    "\n",
    "p = 11\n",
    "x_0 = 1.0\n",
    "v_0 = 0.0\n",
    "\n",
    "def energy(x, v):\n",
    "    global dt\n",
    "    return 0.5 * v**2 + np.abs(x)**(p+1) *( 1- dt**2*0.25) / (1+p)\n",
    "\n",
    "def runge_kutta():\n",
    "    global dt, T, p, x_0, v_0\n",
    "        \n",
    "    x = x_0\n",
    "    v = v_0\n",
    "    E = energy(x,v)\n",
    "\n",
    "    x_list = [x]\n",
    "    v_list = [v]\n",
    "    t_list = [0]\n",
    "    E_list = [E]\n",
    "\n",
    "    for t in np.arange(dt, T, dt):\n",
    "        x1 = x + 0.5*dt * v\n",
    "        v1 = v - 0.5*dt * np.sign(x)*np.abs(x)**p\n",
    "\n",
    "        x2 = x + v1*dt\n",
    "        v2 = v - dt * np.sign(x1)*np.abs(x1)**p\n",
    "\n",
    "        x_list.append(x2)\n",
    "        v_list.append(v2)\n",
    "        t_list.append(t)\n",
    "        E_list.append(energy(x2, v2))\n",
    "\n",
    "        x = x2\n",
    "        v = v2\n",
    "\n",
    "\n",
    "    fig1, ax1 = plt.subplots(figsize=(8, 2))\n",
    "    ax1.yaxis.set_major_formatter(ptick.ScalarFormatter(useMathText=True)) \n",
    "    ax1.ticklabel_format(style='sci',axis='y',scilimits=(0,0))\n",
    "\n",
    "    plt.figure(1)\n",
    "    plt.title(\"2nd order Runge-Kutta harmonic oscillator\")\n",
    "    plt.plot(t_list, x_list, label=\"x\", color=\"red\")\n",
    "    plt.xlim([0,T])\n",
    "    plt.grid()\n",
    "\n",
    "\n",
    "    fig2, ax2 = plt.subplots(figsize=(8, 2))\n",
    "    ax2.yaxis.set_major_formatter(ptick.ScalarFormatter(useMathText=True))\n",
    "    ax2.ticklabel_format(style='sci',axis='y',scilimits=(0,0))\n",
    "    \n",
    "    plt.figure(2)\n",
    "    plt.title(\"Energy vs time for Runge-Kutta\")\n",
    "    plt.plot(t_list, E_list, label=\"E\", color=\"blue\")\n",
    "    plt.xlim([0,T])\n",
    "    plt.grid()\n",
    "\n",
    "\n",
    "def leapflog():\n",
    "        global dt, T, p, x_0, v_0\n",
    "        \n",
    "        x = x_0\n",
    "        v = v_0\n",
    "        E = energy(x,v)\n",
    "\n",
    "        x_list = [x]\n",
    "        v_list = [v]\n",
    "        t_list = [0]\n",
    "        E_list = [E]\n",
    "\n",
    "        for t in np.arange(dt, T, dt):\n",
    "            x_next = x + v*dt - 0.5* np.sign(x) * np.abs(x)**p * dt**2\n",
    "            v_next = v - 0.5 * (np.sign(x) * np.abs(x)**p + np.sign(x_next) * np.abs(x_next)**p) * dt\n",
    "            \n",
    "            x_list.append(x_next)\n",
    "            v_list.append(v_next)\n",
    "            t_list.append(t)\n",
    "            E_list.append(energy(x_next, v_next))\n",
    "            \n",
    "            x = x_next\n",
    "            v = v_next\n",
    "\n",
    "\n",
    "        fig1, ax1 = plt.subplots(figsize=(8, 2))\n",
    "        ax1.yaxis.set_major_formatter(ptick.ScalarFormatter(useMathText=True)) \n",
    "        ax1.ticklabel_format(style='sci',axis='y',scilimits=(0,0))\n",
    "        \n",
    "        plt.figure(1)\n",
    "        plt.title(\"Verlet harmonic oscillator\")\n",
    "        plt.plot(t_list, x_list, label=\"x\", color=\"red\")\n",
    "        plt.xlim([0,T])\n",
    "        plt.grid()\n",
    "        \n",
    "\n",
    "        fig2, ax2 = plt.subplots(figsize=(8, 2))\n",
    "        ax2.yaxis.set_major_formatter(ptick.ScalarFormatter(useMathText=True)) \n",
    "        ax2.yaxis.get_major_formatter().set_useOffset(False)\n",
    "        ax2.ticklabel_format(style='sci',axis='y',scilimits=(0,0))\n",
    "        \n",
    "        plt.figure(2)\n",
    "        plt.title(\"Energy vs time for verlet\")\n",
    "        plt.plot(t_list, E_list, label=\"E\", color=\"blue\")\n",
    "        plt.xlim([0,T])\n",
    "        plt.grid()"
   ]
  },
  {
   "cell_type": "code",
   "execution_count": 5,
   "metadata": {},
   "outputs": [
    {
     "data": {
      "image/png": "[encoded data removed]",
      "text/plain": [
       "<Figure size 576x144 with 1 Axes>"
      ]
     },
     "metadata": {
      "needs_background": "light"
     },
     "output_type": "display_data"
    },
    {
     "data": {
      "image/png": "[encoded data removed]",
      "text/plain": [
       "<Figure size 576x144 with 1 Axes>"
      ]
     },
     "metadata": {
      "needs_background": "light"
     },
     "output_type": "display_data"
    }
   ],
   "source": [
    "leapflog()\n",
    "plt.show()"
   ]
  },
  {
   "cell_type": "code",
   "execution_count": 6,
   "metadata": {},
   "outputs": [
    {
     "data": {
      "image/png": "[encoded data removed]",
      "text/plain": [
       "<Figure size 576x144 with 1 Axes>"
      ]
     },
     "metadata": {
      "needs_background": "light"
     },
     "output_type": "display_data"
    },
    {
     "data": {
      "image/png": "[encoded data removed]",
      "text/plain": [
       "<Figure size 576x144 with 1 Axes>"
      ]
     },
     "metadata": {
      "needs_background": "light"
     },
     "output_type": "display_data"
    }
   ],
   "source": [
    "runge_kutta()\n",
    "plt.show()"
   ]
  },
  {
   "cell_type": "markdown",
   "metadata": {},
   "source": [
    "#### Results\n",
    "In the case of the 2nd order Runge-Kutta algorithm, the energy is increasing which is not appropriate behavior of the harmonic oscillator.\n",
    "On the other hand, the verlet algorithm keeps its integrity."
   ]
  }
 ],
 "metadata": {
  "authors": [
   {
    "name": "Aoi Watanabe"
   }
  ],
  "kernelspec": {
   "display_name": "Python 3",
   "language": "python",
   "name": "python3"
  },
  "language_info": {
   "codemirror_mode": {
    "name": "ipython",
    "version": 3
   },
   "file_extension": ".py",
   "mimetype": "text/x-python",
   "name": "python",
   "nbconvert_exporter": "python",
   "pygments_lexer": "ipython3",
   "version": "3.7.6"
  },
  "title": "Leap-flog Algolism"
 },
 "nbformat": 4,
 "nbformat_minor": 2
}
